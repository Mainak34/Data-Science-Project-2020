{
  "nbformat": 4,
  "nbformat_minor": 0,
  "metadata": {
    "colab": {
      "name": "MonopoleMCMC(z=2).ipynb",
      "provenance": [],
      "authorship_tag": "ABX9TyOcShr8r4nWzgRIK7ftnAFu",
      "include_colab_link": true
    },
    "kernelspec": {
      "name": "python3",
      "display_name": "Python 3"
    }
  },
  "cells": [
    {
      "cell_type": "markdown",
      "metadata": {
        "id": "view-in-github",
        "colab_type": "text"
      },
      "source": [
        "<a href=\"https://colab.research.google.com/github/Mainak34/Data-Science-Project-2020/blob/master/MonopoleMCMC(z%3D2).ipynb\" target=\"_parent\"><img src=\"https://colab.research.google.com/assets/colab-badge.svg\" alt=\"Open In Colab\"/></a>"
      ]
    },
    {
      "cell_type": "code",
      "metadata": {
        "id": "zcHstuZUKtyN",
        "colab_type": "code",
        "colab": {}
      },
      "source": [
        "import numpy as np\n",
        "import matplotlib.pyplot as plt\n",
        "import scipy\n",
        "from scipy import integrate"
      ],
      "execution_count": 0,
      "outputs": []
    },
    {
      "cell_type": "code",
      "metadata": {
        "id": "1Wf_9-1oKzYT",
        "colab_type": "code",
        "colab": {}
      },
      "source": [
        "%matplotlib inline\n",
        "\n",
        "font = {'size'   : 16, 'family':'STIXGeneral'}\n",
        "axislabelfontsize='x-large'\n",
        "plt.rc('font', **font)\n",
        "plt.rcParams['text.usetex'] = False"
      ],
      "execution_count": 0,
      "outputs": []
    },
    {
      "cell_type": "code",
      "metadata": {
        "id": "MpfItVlyK73f",
        "colab_type": "code",
        "colab": {}
      },
      "source": [
        "zz = 0.8\n",
        "\n",
        "# Planck15 cosmology:\n",
        "Om0 = 0.307\n",
        "H0 = 67.7\n",
        "h = 0.677"
      ],
      "execution_count": 0,
      "outputs": []
    },
    {
      "cell_type": "code",
      "metadata": {
        "id": "T1hYPV4QLJM4",
        "colab_type": "code",
        "colab": {}
      },
      "source": [
        "# Defining E(z) = H(z)/H0\n",
        "def E(z):\n",
        "    E2 = 1 - Om0 + Om0*pow(1+z,3)\n",
        "    return np.sqrt(E2)\n",
        "\n",
        "# Hubble constant evolving with z:\n",
        "def H(z):\n",
        "    return E(z)*H0\n",
        "\n",
        "# Comoving distance to redshift z, in units Mpc\n",
        "def r_comoving(z):\n",
        "    c_km = 3e5 # speed of light in km per second\n",
        "    func = lambda z: (c_km/H0)/E(z)\n",
        "    return integrate.romberg(func,0,z)\n",
        "\n",
        "# FWHM of telescope beam in degrees:\n",
        "beam_fwhm = 1\n",
        "# corresponding physical smoothing scale of beam, in Mpc/h:\n",
        "R_beam = np.radians(beam_fwhm/(2*np.sqrt(2*np.log(2))))*r_comoving(zz)*h\n"
      ],
      "execution_count": 0,
      "outputs": []
    },
    {
      "cell_type": "code",
      "metadata": {
        "id": "7uSt6Yn_LMXu",
        "colab_type": "code",
        "colab": {}
      },
      "source": [
        "def Beam_factor(k, R, k_FG=0):\n",
        "    integral = np.zeros(len(k))\n",
        "    for i in range(len(k)):\n",
        "        k_i = k[i]\n",
        "        if k_i==0: k_i = 1e-30 #Avoid divide by k = 0\n",
        "        mu_FG = k_FG/k_i # for modelling foreground removal we use a varying mu cut, set to 0 otherwise\n",
        "        if mu_FG>=1: mu_FG=0.9999999999\n",
        "        mu = np.linspace(mu_FG,1,10000)\n",
        "        beam_int = np.exp(-(1 - mu**2) * k[i]**2 * R**2)\n",
        "        integral[i] = 2*integrate.simps(beam_int,mu)\n",
        "    return 0.5*integral # (1/2) factor arising from the multipole expansion\n",
        "\n",
        "k_perp = np.linspace(0,0.3,100) # units h/Mpc\n",
        "R_beams = [1, 10, 20] # different sized beams to test, in units Mpc/h\n"
      ],
      "execution_count": 0,
      "outputs": []
    },
    {
      "cell_type": "code",
      "metadata": {
        "id": "Q09n5zwLLW84",
        "colab_type": "code",
        "colab": {}
      },
      "source": [
        "# fiducial HI density, in units 10^-4:\n",
        "OmHI_fid = 4.3 # from Masui et al. (2013) [arXiv:1208.0331]\n",
        "# fiducial HI bias:\n",
        "bHI_fid = 1"
      ],
      "execution_count": 0,
      "outputs": []
    },
    {
      "cell_type": "code",
      "metadata": {
        "id": "Eez8HobyLbOf",
        "colab_type": "code",
        "colab": {}
      },
      "source": [
        "# loading power spectrum monopole data, and errors for both the no foreground and subtracted foreground cases:\n",
        "Pk0_data = np.loadtxt('Pk0_z=2.dat', comments='#')\n",
        "k, Pk0_noFG, Pk0_noFG_error, Pk0_subFG, Pk0_subFG_error = Pk0_data"
      ],
      "execution_count": 0,
      "outputs": []
    },
    {
      "cell_type": "code",
      "metadata": {
        "id": "qfliluejLcDA",
        "colab_type": "code",
        "colab": {}
      },
      "source": [
        "# HI power spectrum model (monopole)\n",
        "\n",
        "def Pk_mono(omHIbHI, beam, pdd):\n",
        "    tHIbHI = 180 * h * (1+zz)**2 * 1e-4 * omHIbHI / (H(zz)/H0) # going from OmHI*bHI to tHI*bHI\n",
        "    return tHIbHI**2 * beam * pdd # note that the (1/2) factor is included in the beam factor calculation"
      ],
      "execution_count": 0,
      "outputs": []
    },
    {
      "cell_type": "code",
      "metadata": {
        "id": "SgVsfV0sLfZ9",
        "colab_type": "code",
        "colab": {}
      },
      "source": [
        "# beam factor:\n",
        "Beam_k = Beam_factor(k, R_beam)\n",
        "# underlying linear matter power spectrum, generated using nbodykit (as seen in next cell):\n",
        "Pdd_k = np.loadtxt('Pk_z=2.dat', comments='#')\n",
        "# calculating model:\n",
        "Pk0_model = Pk_mono(OmHI_fid*bHI_fid, Beam_k, Pdd_k)\n",
        "\n",
        "# foreground modelling with a varying mu cut:\n",
        "Beam_kFG = Beam_factor(k, R_beam, k_FG=0.031)\n",
        "Pk0_modelFG = Pk_mono(OmHI_fid*bHI_fid, Beam_kFG, Pdd_k)"
      ],
      "execution_count": 0,
      "outputs": []
    },
    {
      "cell_type": "code",
      "metadata": {
        "id": "ifMDWC8YLnOx",
        "colab_type": "code",
        "colab": {
          "base_uri": "https://localhost:8080/",
          "height": 403
        },
        "outputId": "5f6a1ea8-c873-4204-afd8-9ee9449b0a87"
      },
      "source": [
        "plt.figure(figsize=(9,6))\n",
        "\n",
        "plt.errorbar(k, k*Pk0_noFG, yerr=k*Pk0_noFG_error, fmt='bo', capsize=4, markersize=5, label='no FG')\n",
        "plt.plot(k, k*Pk0_model, c='b',label='no FG model')\n",
        "plt.errorbar(k, k*Pk0_subFG, yerr=k*Pk0_subFG_error, fmt='rx', capsize=4, markersize=5, label='sub FG')\n",
        "plt.plot(k, k*Pk0_modelFG, c='r',label='sub FG model')\n",
        "plt.legend()\n",
        "plt.xlabel(r'$k \\, [h\\, {\\rm Mpc}^{-1}]$')\n",
        "plt.ylabel(\"$kP^{\\, \\mathrm{HI}}_{0}(k)\\,$ $[h^{-2}\\, \\mathrm{mK^2 Mpc^2}]$\")\n",
        "\n",
        "plt.show()"
      ],
      "execution_count": 10,
      "outputs": [
        {
          "output_type": "display_data",
          "data": {
            "image/png": "[encoded data removed]",
            "text/plain": [
              "<Figure size 648x432 with 1 Axes>"
            ]
          },
          "metadata": {
            "tags": []
          }
        }
      ]
    },
    {
      "cell_type": "code",
      "metadata": {
        "id": "TLgtelL6Mf0S",
        "colab_type": "code",
        "colab": {
          "base_uri": "https://localhost:8080/",
          "height": 144
        },
        "outputId": "7c74c543-aa88-4325-8d8d-4d25065e5ce1"
      },
      "source": [
        "!pip install emcee"
      ],
      "execution_count": 11,
      "outputs": [
        {
          "output_type": "stream",
          "text": [
            "Collecting emcee\n",
            "\u001b[?25l  Downloading https://files.pythonhosted.org/packages/97/f4/00151f5f843088337c6a53edd6cbb2df340f1044d23080c662f95219cc3f/emcee-3.0.2-py2.py3-none-any.whl (41kB)\n",
            "\r\u001b[K     |███████▉                        | 10kB 18.7MB/s eta 0:00:01\r\u001b[K     |███████████████▋                | 20kB 1.8MB/s eta 0:00:01\r\u001b[K     |███████████████████████▌        | 30kB 2.6MB/s eta 0:00:01\r\u001b[K     |███████████████████████████████▎| 40kB 1.7MB/s eta 0:00:01\r\u001b[K     |████████████████████████████████| 51kB 1.7MB/s \n",
            "\u001b[?25hRequirement already satisfied: numpy in /usr/local/lib/python3.6/dist-packages (from emcee) (1.18.2)\n",
            "Installing collected packages: emcee\n",
            "Successfully installed emcee-3.0.2\n"
          ],
          "name": "stdout"
        }
      ]
    },
    {
      "cell_type": "code",
      "metadata": {
        "id": "_ekAbBrYMlyc",
        "colab_type": "code",
        "colab": {}
      },
      "source": [
        "import emcee\n",
        "\n",
        "# flat positivity prior:\n",
        "def log_prior(theta):\n",
        "    OmHIbHI = theta\n",
        "    if 0 < OmHIbHI < 10000:\n",
        "        return 0.0\n",
        "    return -np.inf\n",
        "\n",
        "# log probability (log likelihood + log prior):\n",
        "def log_prob(theta, y, yerr, beam, pdd):\n",
        "    OmHIbHI = theta # parameter we are varying\n",
        "    diff = np.abs(y - Pk_mono(OmHIbHI, beam, pdd))\n",
        "    ycov = np.diag(yerr**2) # diagonalise error array, assuming covariance matrix is diagonal\n",
        "    ll = -0.5*np.dot(diff, np.dot(scipy.linalg.inv(ycov), diff))\n",
        "    return ll + log_prior(theta) #returns likelihood times prior (posterior)\n",
        "\n",
        "# function for running MCMC:\n",
        "def run_emcee(y, yerr, beam, pdd):\n",
        "    # running emcee:\n",
        "    pos = [initial + 1e-4 * np.random.randn(ndim) for i in range(nwalkers)] # first proposal: initial guess + random noise\n",
        "    sampler = emcee.EnsembleSampler(nwalkers, ndim, log_prob, args=(y, yerr, beam, pdd))\n",
        "    sampler.run_mcmc(pos, nsamples) # get N samples with MCMC\n",
        "    samples = sampler.chain[:, 200:, :].reshape((-1, ndim)) # discard first 200 samples (not converged yet) and flatten list\n",
        "    return samples"
      ],
      "execution_count": 0,
      "outputs": []
    },
    {
      "cell_type": "code",
      "metadata": {
        "id": "mL5y1GKzMrBf",
        "colab_type": "code",
        "colab": {}
      },
      "source": [
        "# MCMC parameters:\n",
        "ndim = 1 # number of parameters being probed (1, since the 2 parameters are degenerate)\n",
        "nwalkers = 200 # number of walkers\n",
        "nsamples = 500 # number of samples\n",
        "initial = 2 # initial guess, different from true value"
      ],
      "execution_count": 0,
      "outputs": []
    },
    {
      "cell_type": "code",
      "metadata": {
        "id": "78PhEeiaMuHr",
        "colab_type": "code",
        "colab": {}
      },
      "source": [
        "samples_noFG = run_emcee(Pk0_noFG, Pk0_noFG_error, Beam_k, Pdd_k)\n",
        "samples_subFG = run_emcee(Pk0_subFG, Pk0_subFG_error, Beam_k, Pdd_k)\n",
        "samples_subFG_kcut = run_emcee(Pk0_subFG[9:], Pk0_subFG_error[9:], Beam_k[9:], Pdd_k[9:]) # cuts at k=0.09 h/Mpc\n",
        "samples_subFG_FGmodel = run_emcee(Pk0_subFG, Pk0_subFG_error, Beam_kFG, Pdd_k)"
      ],
      "execution_count": 0,
      "outputs": []
    },
    {
      "cell_type": "code",
      "metadata": {
        "id": "wVXH1aDKMxUd",
        "colab_type": "code",
        "colab": {
          "base_uri": "https://localhost:8080/",
          "height": 407
        },
        "outputId": "1c2cf2dc-4b6e-4bc0-957f-b5453c8f3b4d"
      },
      "source": [
        "bins = np.linspace(2, 5, 50)\n",
        "\n",
        "plt.figure(figsize=(12,6))\n",
        "\n",
        "plt.hist(samples_noFG, bins, alpha=0.5, hatch='/', label='Full $P_{0}$, no FG')\n",
        "plt.hist(samples_subFG, bins, alpha=0.5, hatch='|', label='Restricted $P_{0}$, sub FG, $k_{\\mathrm{min}} = 0.09$')\n",
        "plt.hist(samples_subFG_kcut, bins, alpha=0.5, hatch='o', label='Full $P_{0}$, sub FG')\n",
        "plt.hist(samples_subFG_FGmodel, bins, alpha=0.5, label='Full $P_{0}$, sub FG, $k^\\mathrm{FG}_{\\parallel} = 0.031$')\n",
        "plt.yticks([],[])\n",
        "plt.xlim(2.7, 5)\n",
        "plt.axvline(OmHI_fid*bHI_fid, c='k', ls='dashdot')\n",
        "plt.legend()\n",
        "plt.xlabel(\"$\\Omega_{\\mathrm{HI}}b_{\\mathrm{HI}} / 10^{-4} $\", fontsize=20)\n",
        "\n",
        "plt.show()"
      ],
      "execution_count": 30,
      "outputs": [
        {
          "output_type": "display_data",
          "data": {
            "image/png": "[encoded data removed]",
            "text/plain": [
              "<Figure size 864x432 with 1 Axes>"
            ]
          },
          "metadata": {
            "tags": []
          }
        }
      ]
    }
  ]
}